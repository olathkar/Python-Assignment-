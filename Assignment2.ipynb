{
 "cells": [
  {
   "cell_type": "markdown",
   "id": "da9cff6b-42ce-48a1-b0ff-c1125d4ea4df",
   "metadata": {},
   "source": [
    "'''TASK 1'''"
   ]
  },
  {
   "cell_type": "code",
   "execution_count": 13,
   "id": "94516f55-5e13-449b-acbe-04050c46cbc3",
   "metadata": {},
   "outputs": [
    {
     "name": "stdin",
     "output_type": "stream",
     "text": [
      "Enter Basic Salary 20000\n"
     ]
    },
    {
     "name": "stdout",
     "output_type": "stream",
     "text": [
      "Gross Salary =  32000.0\n"
     ]
    }
   ],
   "source": [
    "\n",
    "'''1. Ramesh's basic salary is input through the keyboard. His dearness allowance is 40% of basic salary, and house rent allowance is 20% of basic salary. \n",
    "#Write a program to calculate his gross salary.'''\n",
    "\n",
    "basic_salary = int (input(\"Enter Basic Salary\"))\n",
    "dearness_allowance = basic_salary*0.4\n",
    "house_rent_allowance = basic_salary*0.2\n",
    "gross_salary = dearness_allowance + house_rent_allowance + basic_salary\n",
    "\n",
    "print(\"Gross Salary = \", gross_salary)"
   ]
  },
  {
   "cell_type": "code",
   "execution_count": null,
   "id": "2fe9e00d-9fe1-485d-83bf-daab1a42eba8",
   "metadata": {},
   "outputs": [],
   "source": [
    "#2. The distance between two cities (in km.) is input through the keyboard. \n",
    "#Write a program to convert and print this distance in meters, feet, inches and centimeters."
   ]
  },
  {
   "cell_type": "code",
   "execution_count": 15,
   "id": "d5c8bc56-6279-4a94-b2e0-5d0795502f2d",
   "metadata": {},
   "outputs": [
    {
     "name": "stdin",
     "output_type": "stream",
     "text": [
      "Enter distance in Km:  2\n"
     ]
    },
    {
     "name": "stdout",
     "output_type": "stream",
     "text": [
      "Distance in meters: 2000.00 m\n",
      "Distance in feet: 6561.68 ft\n",
      "Distance in inches: 78740.20 in\n",
      "Distance in centimeters: 200000.00 cm\n"
     ]
    }
   ],
   "source": [
    "distance_km = float(input(\"Enter distance in Km: \"))\n",
    "distance_meters = distance_km * 1000\n",
    "distance_feet = distance_km * 3280.84\n",
    "distance_inches = distance_km * 39370.1\n",
    "distance_centimeters = distance_km * 100000\n",
    "\n",
    "print(f\"Distance in meters: {distance_meters:.2f} m\")\n",
    "print(f\"Distance in feet: {distance_feet:.2f} ft\")\n",
    "print(f\"Distance in inches: {distance_inches:.2f} in\")\n",
    "print(f\"Distance in centimeters: {distance_centimeters:.2f} cm\")"
   ]
  },
  {
   "cell_type": "code",
   "execution_count": 21,
   "id": "1c5c6eb3-4e03-4b72-8fe4-52260b939404",
   "metadata": {},
   "outputs": [
    {
     "name": "stdin",
     "output_type": "stream",
     "text": [
      "Enter Marks 40\n",
      "Enter Marks 50\n",
      "Enter Marks 40\n",
      "Enter Marks 30\n",
      "Enter Marks 55\n"
     ]
    },
    {
     "name": "stdout",
     "output_type": "stream",
     "text": [
      "Agreegate Marks:  215\n",
      "Percentage:  43.0\n"
     ]
    }
   ],
   "source": [
    "'''3. If the marks obtained by a student in five different subjects are input through the keyboard, find out the aggregate marks \n",
    "and percentage marks obtained by the student. Assume that the maximum marks that can be obtained by a student in each subject is 100.'''\n",
    "\n",
    "marks = []\n",
    "for i in range (5):\n",
    "    mark = int(input(\"Enter Marks\"))\n",
    "    marks.append(mark)\n",
    "\n",
    "agreegate_marks = sum(marks)\n",
    "percentage_marks = (agreegate_marks/500)*100\n",
    "\n",
    "print(\"Agreegate Marks: \", agreegate_marks)\n",
    "print(\"Percentage: \", percentage_marks)\n"
   ]
  },
  {
   "cell_type": "code",
   "execution_count": 5,
   "id": "7ea23183-b893-4413-acdc-e9e299214aae",
   "metadata": {},
   "outputs": [
    {
     "name": "stdin",
     "output_type": "stream",
     "text": [
      "Enter Temperatue in degrees F 100\n"
     ]
    },
    {
     "name": "stdout",
     "output_type": "stream",
     "text": [
      "-67.44444444444444 degees C\n"
     ]
    }
   ],
   "source": [
    "'''4. Temperature of a city in Fahrenheit degrees is input through the keyboard. Write a program to convert this temperature into Centigrade degrees.'''\n",
    "input_temp = float(input(\"Enter Temperatue in degrees F\"))\n",
    "output_temp = (5/9)-(input_temp - 32)\n",
    "print(output_temp, \"degees C\")"
   ]
  },
  {
   "cell_type": "code",
   "execution_count": 11,
   "id": "e5e3c0ae-d37f-4743-ba4f-c5cf70d819a1",
   "metadata": {},
   "outputs": [
    {
     "name": "stdin",
     "output_type": "stream",
     "text": [
      "Enter length of rectangle 55\n",
      "Enter breadth of rectangle 89\n",
      "Enter radious of circle 44\n"
     ]
    },
    {
     "name": "stdout",
     "output_type": "stream",
     "text": [
      "Area of rectangle =  4895.0\n",
      "Perimeter of rectangle =  288.0\n",
      "Area of circle =  6079.04\n",
      "Circumference of circle =  276.32\n"
     ]
    }
   ],
   "source": [
    "'''5. The length & breadth of a rectangle and radius of a circle are input through the keyboard. \n",
    "Write a program to calculate the area & perimeter of the rectangle, and the area & circumference of the circle.'''\n",
    "length = float(input(\"Enter length of rectangle\"))\n",
    "breadth = float(input(\"Enter breadth of rectangle\"))\n",
    "radious = float(input(\"Enter radious of circle\"))\n",
    "rectangle_area = length*breadth\n",
    "rectangle_perimeter = 2*(length+breadth)\n",
    "circle_area = 3.14*radious*radious\n",
    "circle_circumference = 2*3.14*radious\n",
    "\n",
    "print(\"Area of rectangle = \", rectangle_area)\n",
    "print(\"Perimeter of rectangle = \", rectangle_perimeter)\n",
    "print(\"Area of circle = \", circle_area)\n",
    "print(\"Circumference of circle = \", circle_circumference)"
   ]
  },
  {
   "cell_type": "code",
   "execution_count": 13,
   "id": "d458a3d6-1510-4793-85df-1d57e6b3a6b7",
   "metadata": {},
   "outputs": [
    {
     "name": "stdin",
     "output_type": "stream",
     "text": [
      "Enter first number 44\n",
      "Enter second number 90\n"
     ]
    },
    {
     "name": "stdout",
     "output_type": "stream",
     "text": [
      "\n",
      "Afer swipping\n",
      "C = 90.0\n",
      "D = 44.0\n"
     ]
    }
   ],
   "source": [
    "'''6. Two numbers are input through the keyboard into two locations C and D. Write a program to interchange the contents of C and D.'''\n",
    "C = float(input(\"Enter first number\"))\n",
    "D = float(input(\"Enter second number\"))\n",
    "\n",
    "C, D = D, C\n",
    "print(\"\\nAfer swipping\")\n",
    "print(f\"C = {C}\")\n",
    "print(f\"D = {D}\")\n"
   ]
  },
  {
   "cell_type": "code",
   "execution_count": 21,
   "id": "c1e81d08-6422-4d64-9bce-b629ac0d0e7d",
   "metadata": {},
   "outputs": [
    {
     "name": "stdin",
     "output_type": "stream",
     "text": [
      "Enter five digit number 12345\n"
     ]
    },
    {
     "name": "stdout",
     "output_type": "stream",
     "text": [
      "Sum of digits =  15\n"
     ]
    }
   ],
   "source": [
    "'''7. If a five-digit number is input through the keyboard, write a program to calculate the sum of its digits. ( Hint: Use the modulus operator '%')'''\n",
    "num = int(input(\"Enter five digit number\"))\n",
    "digit_sum = 0\n",
    "while num >0:\n",
    "    \n",
    "    digit_sum += num%10\n",
    "    num //=10\n",
    "print(\"Sum of digits = \", digit_sum)"
   ]
  },
  {
   "cell_type": "code",
   "execution_count": 25,
   "id": "84da6779-fa2c-46d1-a9eb-fcda674af60f",
   "metadata": {},
   "outputs": [
    {
     "name": "stdin",
     "output_type": "stream",
     "text": [
      "Enter five digit number 12345\n"
     ]
    },
    {
     "name": "stdout",
     "output_type": "stream",
     "text": [
      "Reversed number:  54321\n"
     ]
    }
   ],
   "source": [
    "'''8. If a five-digit number is input through the keyboard, write a program to reverse the number.'''\n",
    "num = int(input(\"Enter five digit number\"))\n",
    "if 10000<=num<=99999:\n",
    "    reverse_num = 0\n",
    "    while num > 0:\n",
    "        digit = num%10\n",
    "        reverse_num = reverse_num * 10 + digit\n",
    "        num //=10\n",
    "    print(\"Reversed number: \", reverse_num)\n",
    "else:\n",
    "    print(\"Invalid input\")\n",
    "        "
   ]
  },
  {
   "cell_type": "code",
   "execution_count": 29,
   "id": "ea154c7b-4232-4b78-87e6-b7797f6396b5",
   "metadata": {
    "jupyter": {
     "source_hidden": true
    }
   },
   "outputs": [
    {
     "name": "stdin",
     "output_type": "stream",
     "text": [
      "Enter four digit number 1234\n"
     ]
    },
    {
     "name": "stdout",
     "output_type": "stream",
     "text": [
      "Sum of first and last digit is: 5\n"
     ]
    }
   ],
   "source": [
    "'''9. If a four-digit number is input through the keyboard, write a program to obtain the sum of the first and last digit of this number.'''\n",
    "num = int(input(\"Enter four digit number\"))\n",
    "if 1000<=num<=9999:\n",
    "    last_digit = num % 10\n",
    "    first_digit = num // 1000\n",
    "    digit_sum = first_digit + last_digit\n",
    "    print(\"Sum of first and last digit is:\", digit_sum)\n",
    "else:\n",
    "    print (\"Invalid input\")"
   ]
  },
  {
   "cell_type": "code",
   "execution_count": null,
   "id": "e9b41e69-376a-4920-b617-683e945cbb2c",
   "metadata": {},
   "outputs": [],
   "source": [
    "'''10. In a town, the percentage of men is 52. The percentage of total literacy is 48. \n",
    "If total percentage of literate men is 35 of the total population, write a program to find the total number of \n",
    "illiterate men and women if the population of the town is 80,000.'''\n",
    "total_polulation = 80000\n",
    "percentage_men = 52\n",
    "percentage_lit_men = 35\n",
    "lit_percentage = 48\n",
    "total_men = (percentage_men / 100) * total_population\n",
    "total_women = total_population - total_men\n"
   ]
  },
  {
   "cell_type": "code",
   "execution_count": 3,
   "id": "958cb39a-d918-4775-8642-c54265c6ba7b",
   "metadata": {},
   "outputs": [
    {
     "name": "stdin",
     "output_type": "stream",
     "text": [
      "Enter the amount (multiple of 100):  230\n"
     ]
    },
    {
     "name": "stdout",
     "output_type": "stream",
     "text": [
      "₹100 notes: 2\n",
      "₹50 notes: 0\n",
      "₹10 notes: 3\n"
     ]
    }
   ],
   "source": [
    "'''11. A cashier has currency notes of denominations 10, 50 and 100. If the amount to be withdrawn is input through the keyboard in hundreds, \n",
    "find the total number of currency notes of each denomination the cashier will have to give to the withdrawer.'''\n",
    "def calculate_notes(amount):\n",
    "\n",
    "    hundred_notes = amount // 100\n",
    "    remaining_amount = amount % 100\n",
    "\n",
    "    fifty_notes = remaining_amount // 50\n",
    "    remaining_amount %= 50\n",
    "\n",
    "    ten_notes = remaining_amount // 10\n",
    "\n",
    "    print(f\"₹100 notes: {hundred_notes}\")\n",
    "    print(f\"₹50 notes: {fifty_notes}\")\n",
    "    print(f\"₹10 notes: {ten_notes}\")\n",
    "\n",
    "# Input from user\n",
    "amount = int(input(\"Enter the amount (multiple of 100): \"))\n",
    "calculate_notes(amount)\n"
   ]
  },
  {
   "cell_type": "code",
   "execution_count": 1,
   "id": "912c41e8-6de0-4c0d-8642-5d5e0f95ac47",
   "metadata": {},
   "outputs": [
    {
     "name": "stdin",
     "output_type": "stream",
     "text": [
      "Enter the total selling price of 15 items:  20000\n",
      "Enter the total profit earned on 15 items:  3000\n"
     ]
    },
    {
     "name": "stdout",
     "output_type": "stream",
     "text": [
      "The cost price of one item is: ₹1133.33\n"
     ]
    }
   ],
   "source": [
    "'''12. If the total selling price of 15 items and the total profit earned on them is input through the keyboard,\n",
    "write a program to find the cost price of one item.'''\n",
    "def calculate_cost_price(total_sp, total_profit, num_items=15):\n",
    "    total_cp = total_sp - total_profit  # Total cost price\n",
    "    cost_price_per_item = total_cp / num_items  # Cost price of one item\n",
    "    return cost_price_per_item\n",
    "\n",
    "# Input from user\n",
    "total_sp = float(input(\"Enter the total selling price of 15 items: \"))\n",
    "total_profit = float(input(\"Enter the total profit earned on 15 items: \"))\n",
    "\n",
    "# Calculate and display the cost price per item\n",
    "cost_price = calculate_cost_price(total_sp, total_profit)\n",
    "print(f\"The cost price of one item is: ₹{cost_price:.2f}\")"
   ]
  },
  {
   "cell_type": "code",
   "execution_count": 9,
   "id": "d25de643-0927-4c95-955f-cb849e565494",
   "metadata": {},
   "outputs": [
    {
     "name": "stdin",
     "output_type": "stream",
     "text": [
      "Enter a five-digit number:  35688\n"
     ]
    },
    {
     "name": "stdout",
     "output_type": "stream",
     "text": [
      "New number: 46799\n"
     ]
    }
   ],
   "source": [
    "'''13. If a five-digit number is input through the keyboard, write a program to print a new number by adding one to each of its digits. \n",
    "For example, if the number that is input is 12391 then the output should be displayed as 23402.'''\n",
    "\n",
    "def increment_digits(number):\n",
    "   \n",
    "    new_number = \"\"\n",
    "    \n",
    "    for digit in str(number):\n",
    "        new_digit = str((int(digit) + 1) % 10) \n",
    "        new_number += new_digit\n",
    "\n",
    "    return int(new_number) \n",
    "\n",
    "\n",
    "number = int(input(\"Enter a five-digit number: \"))\n",
    "\n",
    "\n",
    "if 10000 <= number <= 99999:\n",
    "    print(\"New number:\", increment_digits(number))\n",
    "else:\n",
    "    print(\"Please enter a valid five-digit number.\")"
   ]
  },
  {
   "cell_type": "code",
   "execution_count": 3,
   "id": "d27830f7-757d-401e-93fa-04ee683cb3fc",
   "metadata": {},
   "outputs": [
    {
     "name": "stdin",
     "output_type": "stream",
     "text": [
      "Enter the quantity purchased:  39000\n",
      "Enter the price per item:  200\n"
     ]
    },
    {
     "name": "stdout",
     "output_type": "stream",
     "text": [
      "Total expenses after discount (if applicable): 7020000.0\n"
     ]
    }
   ],
   "source": [
    "'''Task -II \n",
    "1. While purchasing certain items, a discount of 10% is offered if the quantity purchased is more than 10. \n",
    "If quantity and price per item are input through the keyboard, write a program to calculate the total expenses.'''\n",
    "quantity = int(input(\"Enter the quantity purchased: \"))\n",
    "price_per_item = float(input(\"Enter the price per item: \"))\n",
    "\n",
    "if quantity > 10:\n",
    "    discount = 0.10 \n",
    "else:\n",
    "    discount = 0.0\n",
    "\n",
    "total_cost = quantity * price_per_item * (1 - discount)\n",
    "\n",
    "\n",
    "print(\"Total expenses after discount (if applicable):\", total_cost)\n"
   ]
  },
  {
   "cell_type": "code",
   "execution_count": 5,
   "id": "a6ea140a-1cf7-4872-bd0e-6f96477d5aab",
   "metadata": {},
   "outputs": [
    {
     "name": "stdin",
     "output_type": "stream",
     "text": [
      "Enter the quantity purchased:  300\n",
      "Enter the price per item:  45\n"
     ]
    },
    {
     "name": "stdout",
     "output_type": "stream",
     "text": [
      "Total expenses after discount (if applicable): 12150.00\n"
     ]
    },
    {
     "name": "stdin",
     "output_type": "stream",
     "text": [
      "Enter the current year:  2023\n",
      "Enter the year of joining:  2020\n"
     ]
    }
   ],
   "source": [
    "'''2. The current year and the year in which the employee joined the organization are entered through the keyboard.\n",
    "If the number of years for which the employee has served the organization is greater than 3 then a bonus of Rs. 2500/- is given to the employee.\n",
    "If the years of service are not greater than 3, then the program should do nothing.'''\n",
    "\n",
    "quantity = int(input(\"Enter the quantity purchased: \"))\n",
    "price_per_item = float(input(\"Enter the price per item: \"))\n",
    "\n",
    "if quantity > 10:\n",
    "    discount = 0.10\n",
    "else:\n",
    "    discount = 0.0\n",
    "\n",
    "total_cost = quantity * price_per_item * (1 - discount)\n",
    "print(f\"Total expenses after discount (if applicable): {total_cost:.2f}\")\n",
    "\n",
    "current_year = int(input(\"Enter the current year: \"))\n",
    "joining_year = int(input(\"Enter the year of joining: \"))\n",
    "\n",
    "years_of_service = current_year - joining_year\n",
    "if years_of_service > 3:\n",
    "    print(\"Bonus of Rs. 2500/- awarded.\")"
   ]
  },
  {
   "cell_type": "code",
   "execution_count": 7,
   "id": "87366754-7c55-4b63-81d6-5ea70320556e",
   "metadata": {},
   "outputs": [
    {
     "name": "stdin",
     "output_type": "stream",
     "text": [
      "Enter the basic salary: Rs.  30000\n"
     ]
    },
    {
     "name": "stdout",
     "output_type": "stream",
     "text": [
      "The gross salary is: Rs. 59900.00\n"
     ]
    }
   ],
   "source": [
    "'''3. If his basic salary is less than Rs. 1500, then HRA = 10% of basic salary and DA = 90% of basic salary. \n",
    "If his salary is either equal to or above Rs. 1500, then HRA = Rs. 500 and DA = 98% of basic salary. \n",
    "If the employee's salary is input through the keyboard write a program to find his gross salary'''\n",
    "\n",
    "def calculate_gross_salary(basic_salary):\n",
    "    if basic_salary < 1500:\n",
    "        HRA = 0.10 * basic_salary\n",
    "        DA = 0.90 * basic_salary\n",
    "    else:\n",
    "        HRA = 500\n",
    "        DA = 0.98 * basic_salary\n",
    "\n",
    "    gross_salary = basic_salary + HRA + DA\n",
    "    return gross_salary\n",
    "\n",
    "basic_salary = float(input(\"Enter the basic salary: Rs. \"))\n",
    "gross_salary = calculate_gross_salary(basic_salary)\n",
    "print(f\"The gross salary is: Rs. {gross_salary:.2f}\")"
   ]
  },
  {
   "cell_type": "code",
   "execution_count": 9,
   "id": "98c2bc5a-e1f2-4215-9c21-ed3f8d8a7370",
   "metadata": {},
   "outputs": [
    {
     "name": "stdin",
     "output_type": "stream",
     "text": [
      "Enter marks for subject 1:  40\n",
      "Enter marks for subject 2:  66\n",
      "Enter marks for subject 3:  79\n",
      "Enter marks for subject 4:  39\n",
      "Enter marks for subject 5:  55\n"
     ]
    },
    {
     "name": "stdout",
     "output_type": "stream",
     "text": [
      "The student has obtained: Second division\n"
     ]
    }
   ],
   "source": [
    "'''4. The marks obtained by a student in 5 different subjects are input through the keyboard. \n",
    "The student gets a division as per the following rules: Write a program to calculate the division obtained by the student.\n",
    "a. Percentage above or equal to 60 - First division\n",
    "b. Percentage between 50 and 59 - Second division\n",
    "c. Percentage between 40 and 49 - Third division\n",
    "d. Percentage less than 40 – Fail'''\n",
    "\n",
    "\n",
    "def calculate_division(marks):\n",
    "    total_marks = sum(marks)\n",
    "    percentage = (total_marks / 500) * 100\n",
    "\n",
    "    if percentage >= 60:\n",
    "        division = \"First division\"\n",
    "    elif 50 <= percentage < 60:\n",
    "        division = \"Second division\"\n",
    "    elif 40 <= percentage < 50:\n",
    "        division = \"Third division\"\n",
    "    else:\n",
    "        division = \"Fail\"\n",
    "\n",
    "    return division\n",
    "\n",
    "\n",
    "marks = []\n",
    "for i in range(5):\n",
    "    mark = float(input(f\"Enter marks for subject {i + 1}: \"))\n",
    "    marks.append(mark)\n",
    "\n",
    "division = calculate_division(marks)\n",
    "print(f\"The student has obtained: {division}\")\n"
   ]
  },
  {
   "cell_type": "code",
   "execution_count": 13,
   "id": "c0c8daa7-cc54-4037-b3ef-9cb20ea6bfa5",
   "metadata": {},
   "outputs": [
    {
     "name": "stdin",
     "output_type": "stream",
     "text": [
      "Enter marital status (married/unmarried):  married\n",
      "Enter gender (male/female):  male\n",
      "Enter age:  44\n"
     ]
    },
    {
     "name": "stdout",
     "output_type": "stream",
     "text": [
      "The driver is eligible for insurance.\n"
     ]
    }
   ],
   "source": [
    "'''5. A company insures its drivers in the following cases:\n",
    "a. If the driver is married.\n",
    "b. If the driver is unmarried, male & above 30 years of age.\n",
    "c. If the driver is unmarried, female & above 25 years of age.'''\n",
    "\n",
    "def check_insurance_eligibility(marital_status, gender, age):\n",
    "    if marital_status == \"married\":\n",
    "        return True\n",
    "    elif marital_status == \"unmarried\" and gender == \"male\" and age > 30:\n",
    "        return True\n",
    "    elif marital_status == \"unmarried\" and gender == \"female\" and age > 25:\n",
    "        return True\n",
    "    else:\n",
    "        return False\n",
    "\n",
    "\n",
    "marital_status = input(\"Enter marital status (married/unmarried): \").lower()\n",
    "gender = input(\"Enter gender (male/female): \").lower()\n",
    "age = int(input(\"Enter age: \"))\n",
    "\n",
    "\n",
    "if check_insurance_eligibility(marital_status, gender, age):\n",
    "    print(\"The driver is eligible for insurance.\")\n",
    "else:\n",
    "    print(\"The driver is not eligible for insurance.\")"
   ]
  },
  {
   "cell_type": "code",
   "execution_count": 19,
   "id": "1fa9b068-861d-4594-8116-63e609a4daef",
   "metadata": {},
   "outputs": [
    {
     "name": "stdin",
     "output_type": "stream",
     "text": [
      "Enter gender (male/female):  male\n",
      "Enter years of service:  4\n",
      "Enter qualifications (graduate/post-graduate):  graduate\n"
     ]
    },
    {
     "name": "stdout",
     "output_type": "stream",
     "text": [
      "The calculated salary is: Rs. 7000\n"
     ]
    }
   ],
   "source": [
    "'''5'''\n",
    "# Function to calculate salary\n",
    "def calculate_salary(gender, years_of_service, qualifications):\n",
    "    if gender == \"male\":\n",
    "        if years_of_service >= 10:\n",
    "            if qualifications == \"post-graduate\":\n",
    "                salary = 15000\n",
    "            else:\n",
    "                salary = 10000\n",
    "        else:\n",
    "            if qualifications == \"post-graduate\":\n",
    "                salary = 10000\n",
    "            else:\n",
    "                salary = 7000\n",
    "    else: \n",
    "        if years_of_service >= 10:\n",
    "            if qualifications == \"post-graduate\":\n",
    "                salary = 12000\n",
    "            else:\n",
    "                salary = 9000\n",
    "        else:\n",
    "            if qualifications == \"post-graduate\":\n",
    "                salary = 10000\n",
    "            else:\n",
    "                salary = 6000\n",
    "\n",
    "    return salary\n",
    "\n",
    "\n",
    "gender = input(\"Enter gender (male/female): \").lower()\n",
    "years_of_service = int(input(\"Enter years of service: \"))\n",
    "qualifications = input(\"Enter qualifications (graduate/post-graduate): \").lower()\n",
    "\n",
    "\n",
    "salary = calculate_salary(gender, years_of_service, qualifications)\n",
    "print(f\"The calculated salary is: Rs. {salary}\")"
   ]
  },
  {
   "cell_type": "code",
   "execution_count": 21,
   "id": "98948051-ab97-4732-981d-d2ebf751f526",
   "metadata": {},
   "outputs": [
    {
     "name": "stdin",
     "output_type": "stream",
     "text": [
      "Enter the cost price of the item: Rs.  3000\n",
      "Enter the selling price of the item: Rs.  4500\n"
     ]
    },
    {
     "name": "stdout",
     "output_type": "stream",
     "text": [
      "The seller has made a Profit of Rs. 1500.00.\n"
     ]
    }
   ],
   "source": [
    "'''7. If cost price and selling price of an item is input through the keyboard, write a program to determine whether the seller has made profit\n",
    "or incurred loss. Also determine how much profit he made or loss he incurred.'''\n",
    "def calculate_profit_or_loss(cost_price, selling_price):\n",
    "    if selling_price > cost_price:\n",
    "        profit = selling_price - cost_price\n",
    "        return \"Profit\", profit\n",
    "    elif cost_price > selling_price:\n",
    "        loss = cost_price - selling_price\n",
    "        return \"Loss\", loss\n",
    "    else:\n",
    "        return \"No Profit No Loss\", 0\n",
    "\n",
    "cost_price = float(input(\"Enter the cost price of the item: Rs. \"))\n",
    "selling_price = float(input(\"Enter the selling price of the item: Rs. \"))\n",
    "\n",
    "result, amount = calculate_profit_or_loss(cost_price, selling_price)\n",
    "if result == \"No Profit No Loss\":\n",
    "    print(\"The seller has made no profit and no loss.\")\n",
    "else:\n",
    "    print(f\"The seller has made a {result} of Rs. {amount:.2f}.\")\n"
   ]
  },
  {
   "cell_type": "code",
   "execution_count": 23,
   "id": "8ce40401-40f1-4f23-b4c7-79a32cef9479",
   "metadata": {},
   "outputs": [
    {
     "name": "stdin",
     "output_type": "stream",
     "text": [
      "Enter an integer:  4500\n"
     ]
    },
    {
     "name": "stdout",
     "output_type": "stream",
     "text": [
      "4500 is an even number.\n"
     ]
    }
   ],
   "source": [
    "'''8. Any integer is input through the keyboard. Write a program to find out whether it is an odd number or even number. \n",
    "(Hint: Use the % (modulus) operator)'''\n",
    "number = int(input(\"Enter an integer: \"))\n",
    "if number % 2 == 0:\n",
    "    print(f\"{number} is an even number.\")\n",
    "else:\n",
    "    print(f\"{number} is an odd number.\")\n"
   ]
  },
  {
   "cell_type": "code",
   "execution_count": 25,
   "id": "53222b68-7db8-4be1-910b-1cf94e6c03de",
   "metadata": {},
   "outputs": [
    {
     "name": "stdin",
     "output_type": "stream",
     "text": [
      "Enter a five-digit number:  34667\n"
     ]
    },
    {
     "name": "stdout",
     "output_type": "stream",
     "text": [
      "The original number 34667 and the reversed number 76643 are not equal.\n"
     ]
    }
   ],
   "source": [
    "'''9. A five-digit number is entered through the keyboard. Write a program to obtain the reversed number and to determine whether the original and\n",
    "reversed numbers are equal or not.'''\n",
    "number = input(\"Enter a five-digit number: \")\n",
    "reversed_number = number[::-1]\n",
    "\n",
    "if number == reversed_number:\n",
    "    print(f\"The original number {number} and the reversed number {reversed_number} are equal.\")\n",
    "else:\n",
    "    print(f\"The original number {number} and the reversed number {reversed_number} are not equal.\")"
   ]
  },
  {
   "cell_type": "code",
   "execution_count": 27,
   "id": "7cc9393e-da3e-48f9-9937-ae5be7bba3a2",
   "metadata": {},
   "outputs": [
    {
     "name": "stdin",
     "output_type": "stream",
     "text": [
      "Enter the age of Ram:  44\n",
      "Enter the age of Shyam:  34\n",
      "Enter the age of Ajay:  67\n"
     ]
    },
    {
     "name": "stdout",
     "output_type": "stream",
     "text": [
      "The youngest is: Shyam\n"
     ]
    }
   ],
   "source": [
    "'''10. If the ages of Ram, Shyam and Ajay are input through the keyboard, write a program to determine the youngest of the three.'''\n",
    "\n",
    "age_ram = int(input(\"Enter the age of Ram: \"))\n",
    "age_shyam = int(input(\"Enter the age of Shyam: \"))\n",
    "age_ajay = int(input(\"Enter the age of Ajay: \"))\n",
    "\n",
    "if age_ram < age_shyam and age_ram < age_ajay:\n",
    "    youngest = \"Ram\"\n",
    "elif age_shyam < age_ram and age_shyam < age_ajay:\n",
    "    youngest = \"Shyam\"\n",
    "else:\n",
    "    youngest = \"Ajay\"\n",
    "\n",
    "print(f\"The youngest is: {youngest}\")"
   ]
  },
  {
   "cell_type": "code",
   "execution_count": 29,
   "id": "44153b1c-7d53-4507-81f2-cc863ab41bb9",
   "metadata": {},
   "outputs": [
    {
     "name": "stdin",
     "output_type": "stream",
     "text": [
      "Enter the first angle of the triangle:  44\n",
      "Enter the second angle of the triangle:  56\n",
      "Enter the third angle of the triangle:  43\n"
     ]
    },
    {
     "name": "stdout",
     "output_type": "stream",
     "text": [
      "The triangle is not valid.\n"
     ]
    }
   ],
   "source": [
    "'''11. Write a program to check whether a triangle is valid or not, when the three angles of the triangle are entered through the keyboard.\n",
    "A triangle is valid if the sum of all the three angles is equal to 180 degrees.'''\n",
    "angle1 = int(input(\"Enter the first angle of the triangle: \"))\n",
    "angle2 = int(input(\"Enter the second angle of the triangle: \"))\n",
    "angle3 = int(input(\"Enter the third angle of the triangle: \"))\n",
    "\n",
    "if angle1 + angle2 + angle3 == 180:\n",
    "    print(\"The triangle is valid.\")\n",
    "else:\n",
    "    print(\"The triangle is not valid.\")"
   ]
  },
  {
   "cell_type": "code",
   "execution_count": 31,
   "id": "02c83058-96b3-4ae2-9512-79f0f5fbe233",
   "metadata": {},
   "outputs": [
    {
     "name": "stdin",
     "output_type": "stream",
     "text": [
      "Enter a number:  34.66\n"
     ]
    },
    {
     "name": "stdout",
     "output_type": "stream",
     "text": [
      "The absolute value of 34.66 is 34.66.\n"
     ]
    }
   ],
   "source": [
    "'''12. Find the absolute value of a number entered through the keyboard'''\n",
    "number = float(input(\"Enter a number: \"))\n",
    "absolute_value = abs(number)\n",
    "print(f\"The absolute value of {number} is {absolute_value}.\")"
   ]
  },
  {
   "cell_type": "code",
   "execution_count": 33,
   "id": "90547ee6-1ff9-4c3e-8175-c1cc717da235",
   "metadata": {},
   "outputs": [
    {
     "name": "stdin",
     "output_type": "stream",
     "text": [
      "Enter the length of the rectangle:  44\n",
      "Enter the breadth of the rectangle:  50\n"
     ]
    },
    {
     "name": "stdout",
     "output_type": "stream",
     "text": [
      "The area of the rectangle is greater than its perimeter.\n"
     ]
    }
   ],
   "source": [
    "'''13. Given the length and breadth of a rectangle, write a program to find whether the area of the rectangle is greater than its perimeter.\n",
    "For example, the area of the rectangle with length = 5 and breadth = 4 is greater than its perimeter'''\n",
    "length = float(input(\"Enter the length of the rectangle: \"))\n",
    "breadth = float(input(\"Enter the breadth of the rectangle: \"))\n",
    "\n",
    "area = length * breadth\n",
    "perimeter = 2 * (length + breadth)\n",
    "\n",
    "if area > perimeter:\n",
    "    print(\"The area of the rectangle is greater than its perimeter.\")\n",
    "else:\n",
    "    print(\"The area of the rectangle is not greater than its perimeter.\")\n"
   ]
  },
  {
   "cell_type": "code",
   "execution_count": 35,
   "id": "97aa2a26-6800-48a7-9b1e-2bf6d50c5920",
   "metadata": {},
   "outputs": [
    {
     "name": "stdin",
     "output_type": "stream",
     "text": [
      "Enter a year:  2005\n"
     ]
    },
    {
     "name": "stdout",
     "output_type": "stream",
     "text": [
      "2005 is not a leap year.\n"
     ]
    }
   ],
   "source": [
    "'''14. Any year is entered through the keyboard, write a program to determine whether the year is leap or not. Use the logical operators && and ||.'''\n",
    "year = int(input(\"Enter a year: \"))\n",
    "\n",
    "if (year % 4 == 0 and year % 100 != 0) or (year % 400 == 0):\n",
    "    print(f\"{year} is a leap year.\")\n",
    "else:\n",
    "    print(f\"{year} is not a leap year.\")\n"
   ]
  },
  {
   "cell_type": "code",
   "execution_count": 37,
   "id": "88fac007-f277-4d21-8cea-a46b4fd9531e",
   "metadata": {},
   "outputs": [
    {
     "name": "stdin",
     "output_type": "stream",
     "text": [
      "Enter the hardness of the steel:  45\n",
      "Enter the carbon content of the steel:  33\n",
      "Enter the tensile strength of the steel:  45\n"
     ]
    },
    {
     "name": "stdout",
     "output_type": "stream",
     "text": [
      "The grade of the steel is: 5\n"
     ]
    }
   ],
   "source": [
    "'''15'''\n",
    "hardness = float(input(\"Enter the hardness of the steel: \"))\n",
    "carbon_content = float(input(\"Enter the carbon content of the steel: \"))\n",
    "tensile_strength = float(input(\"Enter the tensile strength of the steel: \"))\n",
    "\n",
    "if hardness > 50 and carbon_content < 0.7 and tensile_strength > 5600:\n",
    "    grade = 10\n",
    "elif hardness > 50 and carbon_content < 0.7:\n",
    "    grade = 9\n",
    "elif carbon_content < 0.7 and tensile_strength > 5600:\n",
    "    grade = 8\n",
    "elif hardness > 50 and tensile_strength > 5600:\n",
    "    grade = 7\n",
    "elif hardness > 50 or carbon_content < 0.7 or tensile_strength > 5600:\n",
    "    grade = 6\n",
    "else:\n",
    "    grade = 5\n",
    "\n",
    "print(f\"The grade of the steel is: {grade}\")\n"
   ]
  },
  {
   "cell_type": "code",
   "execution_count": 39,
   "id": "cf06d8ce-3553-4571-bbf4-da735b5659c4",
   "metadata": {},
   "outputs": [
    {
     "name": "stdin",
     "output_type": "stream",
     "text": [
      "Enter the number of days the book is late:  3\n"
     ]
    },
    {
     "name": "stdout",
     "output_type": "stream",
     "text": [
      "The fine is: Rs. 1.50\n"
     ]
    }
   ],
   "source": [
    "'''16. A library charges a fine for every book returned late. For first 5 days the fine is 50 paise,\n",
    "for 6-10 days fine is one rupee and above 10 days fine is 5 rupees. If you return the book after 30 days your membership will be cancelled.\n",
    "Write a program to accept the number of days the member is late to return the book and display the fine or the appropriate message.'''\n",
    "days_late = int(input(\"Enter the number of days the book is late: \"))\n",
    "\n",
    "if days_late <= 5:\n",
    "    fine = days_late * 0.50\n",
    "elif 6 <= days_late <= 10:\n",
    "    fine = (5 * 0.50) + (days_late - 5) * 1\n",
    "elif 11 <= days_late <= 30:\n",
    "    fine = (5 * 0.50) + (5 * 1) + (days_late - 10) * 5\n",
    "else:\n",
    "    fine = \"Membership Cancelled\"\n",
    "\n",
    "if isinstance(fine, str):\n",
    "    print(fine)\n",
    "else:\n",
    "    print(f\"The fine is: Rs. {fine:.2f}\")\n"
   ]
  },
  {
   "cell_type": "code",
   "execution_count": 41,
   "id": "e2218cf3-4571-4508-b49a-41577fcbc667",
   "metadata": {},
   "outputs": [
    {
     "name": "stdin",
     "output_type": "stream",
     "text": [
      "Enter the time taken by the worker (in hours):  4\n"
     ]
    },
    {
     "name": "stdout",
     "output_type": "stream",
     "text": [
      "The worker is: Given training to improve speed\n"
     ]
    }
   ],
   "source": [
    "'''17'''\n",
    "time_taken = float(input(\"Enter the time taken by the worker (in hours): \"))\n",
    "\n",
    "if 2 <= time_taken < 3:\n",
    "    efficiency = \"Highly efficient\"\n",
    "elif 3 <= time_taken < 4:\n",
    "    efficiency = \"Improve speed\"\n",
    "elif 4 <= time_taken < 5:\n",
    "    efficiency = \"Given training to improve speed\"\n",
    "else:\n",
    "    efficiency = \"Has to leave the company\"\n",
    "\n",
    "print(f\"The worker is: {efficiency}\")\n",
    "\n",
    "\n",
    "\n"
   ]
  },
  {
   "cell_type": "code",
   "execution_count": 43,
   "id": "5857d02c-bce1-4547-abe8-5d9a421636d9",
   "metadata": {},
   "outputs": [
    {
     "name": "stdin",
     "output_type": "stream",
     "text": [
      "Enter a number:  34\n"
     ]
    },
    {
     "name": "stdout",
     "output_type": "stream",
     "text": [
      "The factors of 34 are:\n",
      "1\n",
      "2\n",
      "17\n",
      "34\n"
     ]
    }
   ],
   "source": [
    "'''Task -III \n",
    "1. Write a program to find the factor of the given number.'''\n",
    "number = int(input(\"Enter a number: \"))\n",
    "print(f\"The factors of {number} are:\")\n",
    "\n",
    "for i in range(1, number + 1):\n",
    "    if number % i == 0:\n",
    "        print(i)\n"
   ]
  },
  {
   "cell_type": "code",
   "execution_count": 45,
   "id": "4e34f6ed-fd0c-46a8-af10-ceb1db9dd05d",
   "metadata": {},
   "outputs": [
    {
     "name": "stdin",
     "output_type": "stream",
     "text": [
      "Enter a number:  47\n"
     ]
    },
    {
     "name": "stdout",
     "output_type": "stream",
     "text": [
      "47 is a prime number.\n"
     ]
    }
   ],
   "source": [
    "'''2. Write a program to find whether the given number is prime or not.'''\n",
    "number = int(input(\"Enter a number: \"))\n",
    "\n",
    "if number > 1:\n",
    "    for i in range(2, int(number / 2) + 1):\n",
    "        if (number % i) == 0:\n",
    "            print(f\"{number} is not a prime number.\")\n",
    "            break\n",
    "    else:\n",
    "        print(f\"{number} is a prime number.\")\n",
    "else:\n",
    "    print(f\"{number} is not a prime number.\")\n"
   ]
  },
  {
   "cell_type": "code",
   "execution_count": 47,
   "id": "47e9f536-7c59-4fa1-9403-a83eec61a3b7",
   "metadata": {},
   "outputs": [
    {
     "name": "stdin",
     "output_type": "stream",
     "text": [
      "Enter a number:  66\n"
     ]
    },
    {
     "name": "stdout",
     "output_type": "stream",
     "text": [
      "66 is not an Armstrong number.\n"
     ]
    }
   ],
   "source": [
    "'''3. Write a program to find the given number is Armstrong number or not.'''\n",
    "number = int(input(\"Enter a number: \"))\n",
    "num_str = str(number)\n",
    "num_len = len(num_str)\n",
    "sum_of_powers = sum(int(digit) ** num_len for digit in num_str)\n",
    "\n",
    "if number == sum_of_powers:\n",
    "    print(f\"{number} is an Armstrong number.\")\n",
    "else:\n",
    "    print(f\"{number} is not an Armstrong number.\")\n"
   ]
  },
  {
   "cell_type": "code",
   "execution_count": 49,
   "id": "fc361506-b57f-4e19-8fb4-5409b262c74a",
   "metadata": {},
   "outputs": [
    {
     "name": "stdout",
     "output_type": "stream",
     "text": [
      "153\n",
      "370\n",
      "371\n",
      "407\n"
     ]
    }
   ],
   "source": [
    "'''4. Write a program to print the Armstrong numbers between 100 to 999.'''\n",
    "for number in range(100, 999 + 1):\n",
    "    num_str = str(number)\n",
    "    num_len = len(num_str)\n",
    "    sum_of_powers = sum(int(digit) ** num_len for digit in num_str)\n",
    "\n",
    "    if number == sum_of_powers:\n",
    "        print(number)\n"
   ]
  },
  {
   "cell_type": "code",
   "execution_count": 51,
   "id": "ea56a6b9-66c5-49cb-9be4-098e6bbc4f9e",
   "metadata": {},
   "outputs": [
    {
     "name": "stdin",
     "output_type": "stream",
     "text": [
      "Enter the starting number of the range:  2\n",
      "Enter the ending number of the range:  100\n"
     ]
    },
    {
     "name": "stdout",
     "output_type": "stream",
     "text": [
      "Number of even numbers: 50\n",
      "Number of odd numbers: 49\n"
     ]
    }
   ],
   "source": [
    "'''5. Write a program to count and print the number of odd and even numbers.'''\n",
    "# Input the range of numbers from the user\n",
    "start = int(input(\"Enter the starting number of the range: \"))\n",
    "end = int(input(\"Enter the ending number of the range: \"))\n",
    "\n",
    "odd_count = 0\n",
    "even_count = 0\n",
    "\n",
    "# Loop through the range and count odd and even numbers\n",
    "for number in range(start, end + 1):\n",
    "    if number % 2 == 0:\n",
    "        even_count += 1\n",
    "    else:\n",
    "        odd_count += 1\n",
    "\n",
    "print(f\"Number of even numbers: {even_count}\")\n",
    "print(f\"Number of odd numbers: {odd_count}\")\n"
   ]
  },
  {
   "cell_type": "code",
   "execution_count": 53,
   "id": "9388b62e-48ac-428c-bf86-072dd8a0ee7b",
   "metadata": {},
   "outputs": [
    {
     "name": "stdin",
     "output_type": "stream",
     "text": [
      "Enter a number:  34667\n"
     ]
    },
    {
     "name": "stdout",
     "output_type": "stream",
     "text": [
      "The reversed number is: 76643\n"
     ]
    }
   ],
   "source": [
    "'''6. Write a program to find the reverse of n digit number using While loop'''\n",
    "number = int(input(\"Enter a number: \"))\n",
    "reversed_number = 0\n",
    "\n",
    "while number > 0:\n",
    "    digit = number % 10\n",
    "    reversed_number = reversed_number * 10 + digit\n",
    "    number = number // 10\n",
    "\n",
    "print(f\"The reversed number is: {reversed_number}\")\n"
   ]
  },
  {
   "cell_type": "code",
   "execution_count": 55,
   "id": "d2b7f125-abe3-45cd-bcb5-562ca35d7601",
   "metadata": {},
   "outputs": [
    {
     "name": "stdin",
     "output_type": "stream",
     "text": [
      "Enter a decimal number:  466\n"
     ]
    },
    {
     "name": "stdout",
     "output_type": "stream",
     "text": [
      "The binary representation of 466 is: 111010010\n"
     ]
    }
   ],
   "source": [
    "'''7. Write a program to find the binary number from given decimal number.'''\n",
    "decimal_number = int(input(\"Enter a decimal number: \"))\n",
    "binary_number = bin(decimal_number)[2:]\n",
    "\n",
    "print(f\"The binary representation of {decimal_number} is: {binary_number}\")\n"
   ]
  },
  {
   "cell_type": "code",
   "execution_count": 57,
   "id": "24a80ba1-fc5c-4ee0-861c-d7172121df93",
   "metadata": {},
   "outputs": [
    {
     "name": "stdin",
     "output_type": "stream",
     "text": [
      "Enter a binary number:  101010\n"
     ]
    },
    {
     "name": "stdout",
     "output_type": "stream",
     "text": [
      "The decimal representation of 101010 is: 42\n"
     ]
    }
   ],
   "source": [
    "'''8. Write a program to find the decimal number from given Binary number.'''\n",
    "binary_number = input(\"Enter a binary number: \")\n",
    "decimal_number = int(binary_number, 2)\n",
    "\n",
    "print(f\"The decimal representation of {binary_number} is: {decimal_number}\")\n"
   ]
  },
  {
   "cell_type": "code",
   "execution_count": 59,
   "id": "1ae64a9e-ebb7-49b3-9a89-68fbb7473033",
   "metadata": {},
   "outputs": [
    {
     "name": "stdin",
     "output_type": "stream",
     "text": [
      "Enter a number:  44\n"
     ]
    },
    {
     "name": "stdout",
     "output_type": "stream",
     "text": [
      "The factorial of 44 is: 2658271574788448768043625811014615890319638528000000000\n"
     ]
    }
   ],
   "source": [
    "'''9. Write a program to find the factorial of the given number.'''\n",
    "number = int(input(\"Enter a number: \"))\n",
    "\n",
    "factorial = 1\n",
    "for i in range(1, number + 1):\n",
    "    factorial *= i\n",
    "\n",
    "print(f\"The factorial of {number} is: {factorial}\")\n"
   ]
  },
  {
   "cell_type": "code",
   "execution_count": 61,
   "id": "37e05319-7fd7-496f-8c5c-6b974d075f22",
   "metadata": {},
   "outputs": [
    {
     "name": "stdin",
     "output_type": "stream",
     "text": [
      "Enter the number of terms:  34\n"
     ]
    },
    {
     "name": "stdout",
     "output_type": "stream",
     "text": [
      "Fibonacci sequence:\n",
      "0 1 1 2 3 5 8 13 21 34 55 89 144 233 377 610 987 1597 2584 4181 6765 10946 17711 28657 46368 75025 121393 196418 317811 514229 832040 1346269 2178309 3524578 "
     ]
    }
   ],
   "source": [
    "'''10. Write a program to find the Fibonacci Series of the given number.'''\n",
    "n_terms = int(input(\"Enter the number of terms: \"))\n",
    "\n",
    "n1, n2 = 0, 1\n",
    "count = 0\n",
    "\n",
    "if n_terms <= 0:\n",
    "    print(\"Please enter a positive integer.\")\n",
    "elif n_terms == 1:\n",
    "    print(f\"Fibonacci sequence up to {n_terms} term: {n1}\")\n",
    "else:\n",
    "    print(\"Fibonacci sequence:\")\n",
    "    while count < n_terms:\n",
    "        print(n1, end=\" \")\n",
    "        nth = n1 + n2\n",
    "        n1 = n2\n",
    "        n2 = nth\n",
    "        count += 1\n"
   ]
  },
  {
   "cell_type": "code",
   "execution_count": 63,
   "id": "8b34ad1b-2f6c-4d44-87a0-9e35eaf11896",
   "metadata": {},
   "outputs": [
    {
     "name": "stdin",
     "output_type": "stream",
     "text": [
      "Enter a number:  45\n"
     ]
    },
    {
     "name": "stdout",
     "output_type": "stream",
     "text": [
      "45 is not a perfect number.\n"
     ]
    }
   ],
   "source": [
    "'''11. Write a program to find the given number is perfect number'''\n",
    "number = int(input(\"Enter a number: \"))\n",
    "sum_of_divisors = 0\n",
    "\n",
    "for i in range(1, number):\n",
    "    if number % i == 0:\n",
    "        sum_of_divisors += i\n",
    "\n",
    "if sum_of_divisors == number:\n",
    "    print(f\"{number} is a perfect number.\")\n",
    "else:\n",
    "    print(f\"{number} is not a perfect number.\")\n"
   ]
  },
  {
   "cell_type": "code",
   "execution_count": 65,
   "id": "e88a0ef2-5c85-4d2f-8baa-f9a1c5d06ceb",
   "metadata": {},
   "outputs": [
    {
     "name": "stdout",
     "output_type": "stream",
     "text": [
      "Perfect numbers between 1 and 1000 are:\n",
      "6\n",
      "28\n",
      "496\n"
     ]
    }
   ],
   "source": [
    "'''12. Write a program to print the perfect number between 1-1000'''\n",
    "def is_perfect_number(number):\n",
    "    sum_of_divisors = 0\n",
    "    for i in range(1, number):\n",
    "        if number % i == 0:\n",
    "            sum_of_divisors += i\n",
    "    return sum_of_divisors == number\n",
    "\n",
    "print(\"Perfect numbers between 1 and 1000 are:\")\n",
    "for number in range(1, 1001):\n",
    "    if is_perfect_number(number):\n",
    "        print(number)\n"
   ]
  },
  {
   "cell_type": "code",
   "execution_count": 67,
   "id": "61be5e0a-b9a9-412c-baca-bbeaecdab301",
   "metadata": {},
   "outputs": [
    {
     "name": "stdin",
     "output_type": "stream",
     "text": [
      "Enter a number:  456\n"
     ]
    },
    {
     "name": "stdout",
     "output_type": "stream",
     "text": [
      "456 is not a strong number.\n"
     ]
    }
   ],
   "source": [
    "'''13. Write a program to find the given number is strong number'''\n",
    "import math\n",
    "\n",
    "number = int(input(\"Enter a number: \"))\n",
    "sum_of_factorials = 0\n",
    "temp = number\n",
    "\n",
    "while temp > 0:\n",
    "    digit = temp % 10\n",
    "    sum_of_factorials += math.factorial(digit)\n",
    "    temp = temp // 10\n",
    "\n",
    "if sum_of_factorials == number:\n",
    "    print(f\"{number} is a strong number.\")\n",
    "else:\n",
    "    print(f\"{number} is not a strong number.\")\n",
    "\n"
   ]
  },
  {
   "cell_type": "code",
   "execution_count": 69,
   "id": "0cab301e-6f82-4ca2-b252-301d04c8f2fd",
   "metadata": {},
   "outputs": [
    {
     "name": "stdin",
     "output_type": "stream",
     "text": [
      "Enter the base number:  2\n",
      "Enter the exponent number:  45\n"
     ]
    },
    {
     "name": "stdout",
     "output_type": "stream",
     "text": [
      "2.0 raised to the power of 45.0 is: 35184372088832.0\n"
     ]
    }
   ],
   "source": [
    "'''14. Two numbers are entered through the keyboard. Write a program to find the value of one number raised to the power of another.'''\n",
    "base = float(input(\"Enter the base number: \"))\n",
    "exponent = float(input(\"Enter the exponent number: \"))\n",
    "\n",
    "result = base ** exponent\n",
    "\n",
    "print(f\"{base} raised to the power of {exponent} is: {result}\")\n"
   ]
  },
  {
   "cell_type": "code",
   "execution_count": null,
   "id": "82207e57-71df-441d-b6f4-967180c55401",
   "metadata": {},
   "outputs": [],
   "source": []
  }
 ],
 "metadata": {
  "kernelspec": {
   "display_name": "Python [conda env:base] *",
   "language": "python",
   "name": "conda-base-py"
  },
  "language_info": {
   "codemirror_mode": {
    "name": "ipython",
    "version": 3
   },
   "file_extension": ".py",
   "mimetype": "text/x-python",
   "name": "python",
   "nbconvert_exporter": "python",
   "pygments_lexer": "ipython3",
   "version": "3.12.7"
  }
 },
 "nbformat": 4,
 "nbformat_minor": 5
}
